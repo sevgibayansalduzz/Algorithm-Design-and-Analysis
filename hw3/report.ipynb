{
 "cells": [
  {
   "cell_type": "markdown",
   "metadata": {
    "slideshow": {
     "slide_type": "-"
    }
   },
   "source": [
    "# PART 1"
   ]
  },
  {
   "cell_type": "code",
   "execution_count": 5,
   "metadata": {},
   "outputs": [
    {
     "name": "stdout",
     "output_type": "stream",
     "text": [
      "\n",
      "Following is Depth First Search for root\n",
      "1 --> 2 --> 4 --> 5 --> 6 --> 7 --> 8 --> 9 --> 10 --> 3\n",
      "\n",
      "\n",
      "Following is Breadth First Search for root\n",
      "1 --> 2 --> 3 --> 4 --> 5 --> 8 --> 6 --> 9 --> 10 --> 7\n",
      "\n",
      "\n",
      "Following is Breadth First Search for 2\n",
      "2 --> 4 --> 5 --> 6 --> 7 --> 8 --> 10 --> 9\n"
     ]
    }
   ],
   "source": [
    "# -*- coding: utf-8 -*-\n",
    "\"\"\"\n",
    "Created on Sun Dec 16 13:10:12 2018\n",
    "\n",
    "@author: sevgi\n",
    "\"\"\"\n",
    "from collections import defaultdict \n",
    "import xlrd  \n",
    "\"\"\"This class represents a directed graph\"\"\"\n",
    "class Graph: \n",
    "  \n",
    "    # Constructor \n",
    "    def __init__(self):  \n",
    "        self.graph = defaultdict(list) \n",
    "    # function to add an edge to the graph \n",
    "    def addEdge(self,u,v): \n",
    "        self.graph[u].append(v) \n",
    "    \"\"\"\"-----------------------DFS--------------------------------------------\"\"\"  \n",
    "    # The function to do DFS traversal. It uses recursive dfs() \n",
    "    def DFS(self): \n",
    "        visited=[];\n",
    "        stack=[];\n",
    "        V = len(self.graph)+1 #total vertices \n",
    "        #mark each vertex in V with False as a mark of being “unvisited”  \n",
    "        for i in range (V+1):\n",
    "            visited.append(False);\n",
    "        # Call the recursive helper function for unvisited vertices\n",
    "        for v in range(1,V): \n",
    "            if visited[v] == False: \n",
    "                self.dfs(v, visited,stack) \n",
    "        #Print the traversal\n",
    "        stack=tuple(stack);\n",
    "        arrow=\" --> \";\n",
    "        print (arrow.join(stack))        \n",
    "    def dfs(self, v, visited,stack): \n",
    "  \n",
    "        # Mark the current node with True as a mark of being “visited”\n",
    "        visited[v]= True;\n",
    "        stack.append(str(v));\n",
    "        \n",
    "        \"\"\"visits recursively all the unvisited vertices connected to vertex v\"\"\"\n",
    "        for w in self.graph[v]:\n",
    "            if visited[w] == False: \n",
    "                self.dfs(w, visited,stack)\n",
    "    \"\"\"--------------------------end of DFS------------------------------------\"\"\"  \n",
    "\n",
    "\n",
    "    \"\"\"--------------------------------BFS-------------------------------------\"\"\" \n",
    "        # Implements a breadth-ﬁrst search traversal of a given graph\n",
    "    def BFS(self, start): \n",
    "        visited=[];\n",
    "        OUT=[];\n",
    "        V = len(self.graph)+1\n",
    "        # mark each vertex in V with False as a mark of being “unvisited”\n",
    "        for i in range (V+1):\n",
    "            visited.append(False); \n",
    "  \n",
    "        visited[start] = True\n",
    "        # Create a queue for BFS \n",
    "        queue = [] \n",
    "        queue.append(start) \n",
    "       # visits all the unvisited vertices connected to vertex start\"\"\"\n",
    "        while len(queue) is not 0: \n",
    "            for w in self.graph[queue[0]]: \n",
    "                if visited[w] == False: # w is unvisited\n",
    "                    visited[w] = True # mark w with True \n",
    "                    queue.append(w) #add w to the queue\n",
    "            #remove the front vertex from the queue       \n",
    "            s = queue.pop(0) \n",
    "            OUT.append(str(s));\n",
    "        OUT=tuple(OUT);\n",
    "        arrow=\" --> \";\n",
    "        print (arrow.join(OUT))\n",
    "    \"\"\"------------------------------end of BFS--------------------------------\"\"\" \n",
    "  \n",
    "# Create a graph according to excel file\n",
    "loc = (\"Graph_data.XLS\")   \n",
    "wb = xlrd.open_workbook(loc) \n",
    "sheet = wb.sheet_by_index(0) \n",
    "sheet.cell_value(0, 0) \n",
    "g = Graph()  \n",
    "for i in range(sheet.nrows): \n",
    "    if(i>2):\n",
    "        g.addEdge(int(sheet.cell_value(i, 0)),int(sheet.cell_value(i, 1)))\n",
    "print (\"\\nFollowing is Depth First Search for root\")\n",
    "g.DFS()  \n",
    "\n",
    "print (\"\\n\\nFollowing is Breadth First Search for root\")\n",
    "g.BFS(1) \n",
    "\n",
    "print (\"\\n\\nFollowing is Breadth First Search for 2\")\n",
    "g.BFS(2) "
   ]
  },
  {
   "cell_type": "markdown",
   "metadata": {},
   "source": [
    "EXPLANATION\n",
    "\n",
    "Fisrtly this code reads datas from the excel file and adds these datas into the graph as edges.(Because the first three data in the excel file do not display an edge,these are passed).\n",
    "The DFS and BFS are called to be tested.\n",
    "\n",
    "BFS and DFS:I take the BFS and DFS algorthims from the course's textbook.\n",
    "\n",
    "DFS:This functions marks each vertex in V with False as a mark of being “unvisited” .Then it marks the root vertex as visited. On each iteration, the algorithm proceeds to an unvisited vertex that is adjacent to the one it is currently in. This process continues until a dead end—a vertex with no adjacent unvisited vertices— is encountered. At a dead end, the algorithm backs up one edge to the vertex it came from and tries to continue visiting unvisited vertices from there.\n",
    "\n",
    "BFS:It uses a queue to trace the operation of breadth-ﬁrst search. The queue is initialized with the traversal’s starting vertex, which is marked as visited. On each iteration, the algorithm identiﬁes all unvisited vertices that are adjacent to the front vertex, marks them as visited, and adds them to the queue; after that, the front vertex is removed from the queue. "
   ]
  },
  {
   "cell_type": "markdown",
   "metadata": {},
   "source": [
    "COMPLEXITY\n",
    "\n",
    "DFS:For the adjacency matrix representation, the traversal time is in θ(|V|^2),  where |V| is the number of the graph’s vertices .\n",
    "BFS:The while loop works |V| times and ,the for loop works |E| times.Thus,Breadth-ﬁrst search has the same efﬁciency as depth-ﬁrst search: it is in θ(|V|^2) for the adjacency matrix representation, the traversal time is in θ(|V|^2),  where |V| is the number of the graph’s vertices . "
   ]
  },
  {
   "cell_type": "markdown",
   "metadata": {},
   "source": [
    "# PART 2"
   ]
  },
  {
   "cell_type": "code",
   "execution_count": 4,
   "metadata": {},
   "outputs": [
    {
     "name": "stdout",
     "output_type": "stream",
     "text": [
      "Enter the N:15\n",
      "Enter the M:5\n",
      "Player1--How many chip/s : 5\n",
      "Player2--How many chip/s : 3\n",
      "Player1--How many chip/s : 2\n",
      "WINNER IS PLAYER2\n"
     ]
    }
   ],
   "source": [
    "# -*- coding: utf-8 -*-\n",
    "\"\"\"\n",
    "Created on Sun Dec 16 00:04:17 2018\n",
    "\n",
    "@author: sevgi\n",
    "\"\"\"\n",
    "def NIM():\n",
    "    #enter the total number of chips\n",
    "    while True:\n",
    "        N=input(\"Enter the N:\")\n",
    "        if (N.isdigit() and (int(N) > 0)):\n",
    "            N=int(N);\n",
    "            break\n",
    "        print(\"Please enter a valid number!\")\n",
    "    #each player takes at least one and at most m chips  \n",
    "    while True:\n",
    "        M=input(\"Enter the M:\")\n",
    "        if (M.isdigit() and (int(M) > 0) and (int(M) < N)):\n",
    "            M=int(M);\n",
    "            break\n",
    "        print(\"Please enter a valid number!\")\n",
    "    #call the helper method    \n",
    "    nim(N,True,False,M)\n",
    "\n",
    "def nim(N,Player1,Player2,M):\n",
    "    #\"\"\"Take a move from users\"\"\"\n",
    "    while True:\n",
    "        if(Player1):\n",
    "            move=input(\"Player1--How many chip/s : \")\n",
    "        else:\n",
    "            move=input(\"Player2--How many chip/s : \");\n",
    "        if int(move) in range (1,M+1):\n",
    "            move=int(move);\n",
    "            break\n",
    "        print (\"Illegal number: only 1 - \"+str(M)) \n",
    "    #\"\"\"Anounce the winner or keep playing game \"\"\"\n",
    "    if (N-move)<=M :\n",
    "        if(Player1):\n",
    "            print(\"WINNER IS PLAYER2\")\n",
    "        else:    print(\"WINNER IS PLAYER1\")\n",
    "    else:#decrease the total number of chips and changes the players\n",
    "       nim(N-move,Player2,Player1,M)\n",
    "       \n",
    "NIM()\n",
    "        "
   ]
  },
  {
   "cell_type": "markdown",
   "metadata": {},
   "source": [
    "EXPLANATION\n",
    "\n",
    "This program takes valid numbers from the player for M and N.(N represents the total number of chips and  M represents the maximum number of chips that can be taken).After M and N are determined, This programs ask  Player1 to his/her move, then it decrese N by player's move. Because game passes to the other player , program makes recursive call with the new total number of chips on the pile and switches the player position. The program continues to get a move from the players until the total number of chips on the table is less than m or m.When the program reach this case,winner will be anounced according to player who gets the chanced to make the final move."
   ]
  },
  {
   "cell_type": "markdown",
   "metadata": {},
   "source": [
    "COMPLEXITY\n",
    "\n",
    "Because each player takes at least one chip from the pile , this game will be continued N-M tours(where N represents the total number of the chips on the pile and M represents the maximum number of chips that can be taken.),the complexity of this program is O(N) in the worst case.Best case occurs M is a number between N/2 and N,the complexity of this program is O(1) in the best case."
   ]
  },
  {
   "cell_type": "markdown",
   "metadata": {},
   "source": [
    "# PART 3"
   ]
  },
  {
   "cell_type": "code",
   "execution_count": 3,
   "metadata": {},
   "outputs": [
    {
     "name": "stdout",
     "output_type": "stream",
     "text": [
      "There is an i for A[i]=i and  i=3.\n"
     ]
    }
   ],
   "source": [
    "# -*- coding: utf-8 -*-\n",
    "\"\"\"\n",
    "Created on Sat Dec 15 19:16:20 2018\n",
    "\n",
    "@author: sevgi\n",
    "\"\"\"\n",
    "#use the binary search method \n",
    "#just change the control statement\n",
    "def Search(arr, low, high): \n",
    "    \n",
    "    mid = (low + high)//2\n",
    "    \n",
    "    #if there is no element that is not searched return -1\n",
    "    if ((low is high) and (arr[mid] != mid)):\n",
    "         return -1    \n",
    "    # if mid euals arr[mid] return this index \n",
    "    if mid is arr[mid]: \n",
    "        return mid \n",
    "    \n",
    "    #make recursive call like binary search\n",
    "    if mid > arr[mid]: \n",
    "        return Search(arr, (mid + 1), high) \n",
    "    else: \n",
    "        return Search(arr, low, (mid -1)) \n",
    "    \n",
    "# Driver program to check above functions */ \n",
    "arr = [-1,0,1,3,5, 10, 11, 30, 50, 100] \n",
    "n = len(arr) \n",
    "k=(Search(arr, 0, n-1))\n",
    "if k is -1:\n",
    "    print(\"There is not an i for A[i]=i.\")\n",
    "else:    \n",
    "    print (\"There is an i for A[i]=i and  i=\"+ str(k)+\".\")"
   ]
  },
  {
   "cell_type": "markdown",
   "metadata": {},
   "source": [
    "EXPLANATION\n",
    "\n",
    "This function is used the same algorithm with binary search algorithm. Only the control case is different from the binary search.In the binary search ,the function makes comparison between search key and array elements.On the otherhand,this algorithm make comparison between the array elements and theirs indexes. Asume an index i, If i equals to an element of array which index is equal to i(A[i] ==i),the function returns i. "
   ]
  },
  {
   "cell_type": "markdown",
   "metadata": {},
   "source": [
    "COMPLEXİTY\n",
    "\n",
    "This function has same complexity with the binary search algorithm.In the worst and average case,the compexity of this code  is θ(logn). In the best case,the compexity will be θ(1)."
   ]
  },
  {
   "cell_type": "markdown",
   "metadata": {},
   "source": [
    "# PART 4"
   ]
  },
  {
   "cell_type": "code",
   "execution_count": 2,
   "metadata": {},
   "outputs": [
    {
     "name": "stdout",
     "output_type": "stream",
     "text": [
      "Maximum contiguous sum is  14\n",
      "Maximum contiguous sum is  8\n"
     ]
    }
   ],
   "source": [
    "# -*- coding: utf-8 -*-\n",
    "\"\"\"\n",
    "Created on Sat Dec 15 19:46:40 2018\n",
    "\n",
    "@author: sevgi\n",
    "\"\"\"\n",
    "import sys\n",
    "def maxMiddleSum(arr, low, mid, high) : \n",
    "    \n",
    "\tdefault_val=-sys.maxsize -1;\n",
    "\tsm = 0; left_sum = default_val;\n",
    "\n",
    "\t #find left part of maximum middle subarray\n",
    "\tfor i in range(mid, low-1, -1) : \n",
    "\t\tsm = sm + arr[i] \n",
    "\t\tif (sm > left_sum) : \n",
    "\t\t\tleft_sum = sm \n",
    "\t# Include elements on right of mid \n",
    "\tsm = 0; right_sum = default_val;    \n",
    "     #find right part of maximum middle subarray\n",
    "\tfor i in range(mid + 1, high + 1) : \n",
    "\t\tsm = sm + arr[i] \n",
    "\t\tif (sm > right_sum) : \n",
    "\t\t\tright_sum = sm \n",
    "\t# Return sum of elements on left and right of mid \n",
    "\treturn left_sum + right_sum; \n",
    "\n",
    "\n",
    "# Returns sum of maxium sum subarray\n",
    "def maxSubArraySum(arr, low, high) : \n",
    "\t# Base Case: Only one element \n",
    "\tif (low == high) : \n",
    "\t\treturn arr[low] \n",
    "\t #divide array into two parts \n",
    "\tmid = (low + high) // 2\n",
    "\treturn max(maxSubArraySum(arr, low, mid), #find maximum left subarrays\n",
    "\t\t\tmaxSubArraySum(arr, mid+1, high), #find maximum right subarrays\n",
    "\t\t\tmaxMiddleSum(arr, low, mid, high)) ; #find maximum middle subarray\n",
    "\t\t\n",
    "\n",
    "# Driver Code \n",
    "array = [5, -6, 6, 7, -6, 7, -4, 3] \n",
    "max_sum = maxSubArraySum(array, 0, len(array) -1) \n",
    "print(\"Maximum contiguous sum is \", max_sum) \n",
    "\n",
    "array = [5, -6,-6, 7, -6, 7, -4, 3] \n",
    "max_sum = maxSubArraySum(array, 0, len(array) -1) \n",
    "print(\"Maximum contiguous sum is \", max_sum) \n"
   ]
  },
  {
   "cell_type": "markdown",
   "metadata": {},
   "source": [
    "EXPLANATION\n",
    "\n",
    "This code  divides the given array in two halves.Then retruns the maximum number of the following three: Maximum sum of the subarray in left array, maximum sum of the subarray in the right array ,and maximum sum of the subarray in the midpoint.\n",
    "To find maximum sums of subarrays, whichs in the left and the right , this function makes recursive call(I take logarithmic time).On the otherhand, function calls a helper function ,which work in linear time,  to find  maximum sum of the subarray in the midpoint ."
   ]
  },
  {
   "cell_type": "markdown",
   "metadata": {},
   "source": [
    "COMPLEXİTY\n",
    "\n",
    "The recurrence relation of this algorithm is T(n) = 2T(n/2) + Θ(n). It is similar to Merge Sort so the complexity is this code is Θ(nLogn)."
   ]
  },
  {
   "cell_type": "markdown",
   "metadata": {},
   "source": [
    "# PART 5"
   ]
  },
  {
   "cell_type": "code",
   "execution_count": 1,
   "metadata": {},
   "outputs": [
    {
     "name": "stdout",
     "output_type": "stream",
     "text": [
      "'Tobeornottobe' valiadility is : True\n",
      "'Tobeorooottobe' valiadility is : False\n",
      "'Tobeornottotonottobe' valiadility is : True\n"
     ]
    }
   ],
   "source": [
    "# -*- coding: utf-8 -*-\n",
    "\"\"\"\n",
    "Created on Sat Dec 15 21:41:12 2018\n",
    "\n",
    "@author: sevgi\n",
    "\"\"\"\n",
    " \n",
    "\n",
    "def foo(string,pattern):\n",
    "    s2=\"\";\n",
    "    ##call helper method\n",
    "    return foo2(string,s2,len(string),pattern);\n",
    "\n",
    "def foo2(string,s2,length,pattern):\n",
    "    #Base case:\n",
    "    #if length is -1 and all s2 is match with any pattern return true\n",
    "    if((length == -1) and (len(s2) is 0 ) ):\n",
    "        return True;\n",
    "    elif(length == -1):\n",
    "        return False;\n",
    "    \n",
    "    #s2 is match with any pattern delete s2 and add the next letter into it\n",
    "    if(s2 in pattern):\n",
    "        if(length !=0):\n",
    "            s2=string[0].lower();\n",
    "        else:\n",
    "            s2=\"\";#if there is no letter in the string add nothind\n",
    "    else:#s2 is not match with any pattern concatanete s2  with the next letter\n",
    "        if(length !=0):\n",
    "            s2=s2+string[0].lower();\n",
    "    #make a recurive call,send the string without first character.\n",
    "    return foo2(string[1:len(string)],s2,len(string)-1,pattern)\n",
    "\n",
    "# given pattern \n",
    "pattern={'to':'A','be':'B','or':'C','not':'D'} \n",
    "#given string\n",
    "string=\"Tobeornottobe\";\n",
    "print(\"'\"+string+\"'\"+\" valiadility is : \"+str( foo(string,pattern) ))\n",
    "\n",
    "#given string\n",
    "string=\"Tobeorooottobe\";\n",
    "print(\"'\"+string+\"'\"+\" valiadility is : \"+str( foo(string,pattern) ))\n",
    "\n",
    "#given string\n",
    "string=\"Tobeornottotonottobe\";\n",
    "print(\"'\"+string+\"'\"+\" valiadility is : \"+str( foo(string,pattern) ))"
   ]
  },
  {
   "cell_type": "markdown",
   "metadata": {},
   "source": [
    "EXPLANATION\n",
    "\n",
    "This code takes a pattern and a string.Recursively, it traverses the string.Adds each letter,which is traversed, to the s2 array. The s2 array will be deleted and the next letter will be added to the s2 , if the s2 array represents a pattern.The function keeps to traverse string until there is no letter in the string.After traversing is done ,if the length of s2 equals to zero ,the function returns True.Otherwise it return False."
   ]
  },
  {
   "cell_type": "markdown",
   "metadata": {},
   "source": [
    "COMPLEXİTY\n",
    "\n",
    "The recurrence relation of this algorithm is T(n) = T(n-1) + c.So the complexity of this code is Θ(n)."
   ]
  }
 ],
 "metadata": {
  "celltoolbar": "Raw Cell Format",
  "kernelspec": {
   "display_name": "Python 3",
   "language": "python",
   "name": "python3"
  },
  "language_info": {
   "codemirror_mode": {
    "name": "ipython",
    "version": 3
   },
   "file_extension": ".py",
   "mimetype": "text/x-python",
   "name": "python",
   "nbconvert_exporter": "python",
   "pygments_lexer": "ipython3",
   "version": "3.7.0"
  }
 },
 "nbformat": 4,
 "nbformat_minor": 2
}
